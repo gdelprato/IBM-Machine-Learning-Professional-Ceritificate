{
  "nbformat": 4,
  "nbformat_minor": 2,
  "metadata": {
    "colab": {
      "name": "Heart_Attack_Analysis.ipynb",
      "provenance": [],
      "collapsed_sections": []
    },
    "kernelspec": {
      "name": "python3",
      "display_name": "Python 3.9.6 64-bit"
    },
    "language_info": {
      "name": "python",
      "version": "3.9.6",
      "mimetype": "text/x-python",
      "codemirror_mode": {
        "name": "ipython",
        "version": 3
      },
      "pygments_lexer": "ipython3",
      "nbconvert_exporter": "python",
      "file_extension": ".py"
    },
    "interpreter": {
      "hash": "6426af1756cc9b74662456eba67783cc797322f9db2593e932cfc690cc6420a6"
    }
  },
  "cells": [
    {
      "cell_type": "markdown",
      "source": [
        "## Brief description of the data set\r\n",
        "For this project i’m going to use a Data Set representing Heart Attack classfication .Each case\r\n",
        "of heart attack has some parameters:\r\n",
        "1. age - age in years\r\n",
        "2. sex - sex (1 = male; 0 = female)\r\n",
        "3. cp - chest pain type (1 = typical angina; 2 = atypical angina; 3 = non-anginal pain; 0 =\r\n",
        "asymptomatic)\r\n",
        "4. trestbps - resting blood pressure (in mm Hg on admission to the hospital)\r\n",
        "5. chol - serum cholestoral in mg/dl\r\n",
        "6. fbs - fasting blood sugar > 120 mg/dl (1 = true; 0 = false)\r\n",
        "7. restecg - resting electrocardiographic results (1 = normal; 2 = having ST-T wave\r\n",
        "abnormality; 0 = hypertrophy)\r\n",
        "8. thalach - maximum heart rate achieved\r\n",
        "9. exang - exercise induced angina (1 = yes; 0 = no)\r\n",
        "10. oldpeak - ST depression induced by exercise relative to rest\r\n",
        "11. slope - the slope of the peak exercise ST segment (2 = upsloping; 1 = flat; 0 =\r\n",
        "downsloping)\r\n",
        "12. ca - number of major vessels (0-3) colored by flourosopy\r\n",
        "13. thal - 2 = normal; 1 = fixed defect; 3 = reversable defect\r\n",
        "14. num - the predicted attribute - diagnosis of heart disease (angiographic disease status)\r\n",
        "(Value 0 = < diameter narrowing; Value 1 = > 50% diameter narrowing)\r\n",
        "\r\n"
      ],
      "metadata": {}
    },
    {
      "cell_type": "markdown",
      "source": [
        "## Initial plan for data exploration\r\n",
        "This analysis is the base step in order to create a model that can predict a heart attack based on\r\n",
        "some clinical parameters.\r\n",
        "1. Data Overview\r\n",
        "2. Data Cleaning and Data Engineering Numerical Data\r\n",
        "3. Data Cleaning and Data Engineering Categorical Data\r\n",
        "4. Hypothesis Testing"
      ],
      "metadata": {}
    },
    {
      "cell_type": "code",
      "execution_count": 2,
      "source": [
        "import os\r\n",
        "import numpy as np, seaborn as sns\r\n",
        "import pandas as pd\r\n",
        "import matplotlib.pyplot as plt\r\n",
        "from sklearn.cluster import AgglomerativeClustering\r\n",
        "from sklearn.cluster import KMeans\r\n",
        "from scipy.cluster import hierarchy\r\n"
      ],
      "outputs": [
        {
          "output_type": "execute_result",
          "data": {
            "text/html": [
              "<div>\n",
              "<style scoped>\n",
              "    .dataframe tbody tr th:only-of-type {\n",
              "        vertical-align: middle;\n",
              "    }\n",
              "\n",
              "    .dataframe tbody tr th {\n",
              "        vertical-align: top;\n",
              "    }\n",
              "\n",
              "    .dataframe thead th {\n",
              "        text-align: right;\n",
              "    }\n",
              "</style>\n",
              "<table border=\"1\" class=\"dataframe\">\n",
              "  <thead>\n",
              "    <tr style=\"text-align: right;\">\n",
              "      <th></th>\n",
              "      <th>age</th>\n",
              "      <th>sex</th>\n",
              "      <th>cp</th>\n",
              "      <th>trtbps</th>\n",
              "      <th>chol</th>\n",
              "      <th>fbs</th>\n",
              "      <th>restecg</th>\n",
              "      <th>thalachh</th>\n",
              "      <th>exng</th>\n",
              "      <th>oldpeak</th>\n",
              "      <th>slp</th>\n",
              "      <th>caa</th>\n",
              "      <th>thall</th>\n",
              "      <th>output</th>\n",
              "    </tr>\n",
              "  </thead>\n",
              "  <tbody>\n",
              "    <tr>\n",
              "      <th>0</th>\n",
              "      <td>63</td>\n",
              "      <td>1</td>\n",
              "      <td>3</td>\n",
              "      <td>145</td>\n",
              "      <td>233</td>\n",
              "      <td>1</td>\n",
              "      <td>0</td>\n",
              "      <td>150</td>\n",
              "      <td>0</td>\n",
              "      <td>2.3</td>\n",
              "      <td>0</td>\n",
              "      <td>0</td>\n",
              "      <td>1</td>\n",
              "      <td>1</td>\n",
              "    </tr>\n",
              "    <tr>\n",
              "      <th>1</th>\n",
              "      <td>37</td>\n",
              "      <td>1</td>\n",
              "      <td>2</td>\n",
              "      <td>130</td>\n",
              "      <td>250</td>\n",
              "      <td>0</td>\n",
              "      <td>1</td>\n",
              "      <td>187</td>\n",
              "      <td>0</td>\n",
              "      <td>3.5</td>\n",
              "      <td>0</td>\n",
              "      <td>0</td>\n",
              "      <td>2</td>\n",
              "      <td>1</td>\n",
              "    </tr>\n",
              "    <tr>\n",
              "      <th>2</th>\n",
              "      <td>41</td>\n",
              "      <td>0</td>\n",
              "      <td>1</td>\n",
              "      <td>130</td>\n",
              "      <td>204</td>\n",
              "      <td>0</td>\n",
              "      <td>0</td>\n",
              "      <td>172</td>\n",
              "      <td>0</td>\n",
              "      <td>1.4</td>\n",
              "      <td>2</td>\n",
              "      <td>0</td>\n",
              "      <td>2</td>\n",
              "      <td>1</td>\n",
              "    </tr>\n",
              "    <tr>\n",
              "      <th>3</th>\n",
              "      <td>56</td>\n",
              "      <td>1</td>\n",
              "      <td>1</td>\n",
              "      <td>120</td>\n",
              "      <td>236</td>\n",
              "      <td>0</td>\n",
              "      <td>1</td>\n",
              "      <td>178</td>\n",
              "      <td>0</td>\n",
              "      <td>0.8</td>\n",
              "      <td>2</td>\n",
              "      <td>0</td>\n",
              "      <td>2</td>\n",
              "      <td>1</td>\n",
              "    </tr>\n",
              "    <tr>\n",
              "      <th>4</th>\n",
              "      <td>57</td>\n",
              "      <td>0</td>\n",
              "      <td>0</td>\n",
              "      <td>120</td>\n",
              "      <td>354</td>\n",
              "      <td>0</td>\n",
              "      <td>1</td>\n",
              "      <td>163</td>\n",
              "      <td>1</td>\n",
              "      <td>0.6</td>\n",
              "      <td>2</td>\n",
              "      <td>0</td>\n",
              "      <td>2</td>\n",
              "      <td>1</td>\n",
              "    </tr>\n",
              "    <tr>\n",
              "      <th>...</th>\n",
              "      <td>...</td>\n",
              "      <td>...</td>\n",
              "      <td>...</td>\n",
              "      <td>...</td>\n",
              "      <td>...</td>\n",
              "      <td>...</td>\n",
              "      <td>...</td>\n",
              "      <td>...</td>\n",
              "      <td>...</td>\n",
              "      <td>...</td>\n",
              "      <td>...</td>\n",
              "      <td>...</td>\n",
              "      <td>...</td>\n",
              "      <td>...</td>\n",
              "    </tr>\n",
              "    <tr>\n",
              "      <th>298</th>\n",
              "      <td>57</td>\n",
              "      <td>0</td>\n",
              "      <td>0</td>\n",
              "      <td>140</td>\n",
              "      <td>241</td>\n",
              "      <td>0</td>\n",
              "      <td>1</td>\n",
              "      <td>123</td>\n",
              "      <td>1</td>\n",
              "      <td>0.2</td>\n",
              "      <td>1</td>\n",
              "      <td>0</td>\n",
              "      <td>3</td>\n",
              "      <td>0</td>\n",
              "    </tr>\n",
              "    <tr>\n",
              "      <th>299</th>\n",
              "      <td>45</td>\n",
              "      <td>1</td>\n",
              "      <td>3</td>\n",
              "      <td>110</td>\n",
              "      <td>264</td>\n",
              "      <td>0</td>\n",
              "      <td>1</td>\n",
              "      <td>132</td>\n",
              "      <td>0</td>\n",
              "      <td>1.2</td>\n",
              "      <td>1</td>\n",
              "      <td>0</td>\n",
              "      <td>3</td>\n",
              "      <td>0</td>\n",
              "    </tr>\n",
              "    <tr>\n",
              "      <th>300</th>\n",
              "      <td>68</td>\n",
              "      <td>1</td>\n",
              "      <td>0</td>\n",
              "      <td>144</td>\n",
              "      <td>193</td>\n",
              "      <td>1</td>\n",
              "      <td>1</td>\n",
              "      <td>141</td>\n",
              "      <td>0</td>\n",
              "      <td>3.4</td>\n",
              "      <td>1</td>\n",
              "      <td>2</td>\n",
              "      <td>3</td>\n",
              "      <td>0</td>\n",
              "    </tr>\n",
              "    <tr>\n",
              "      <th>301</th>\n",
              "      <td>57</td>\n",
              "      <td>1</td>\n",
              "      <td>0</td>\n",
              "      <td>130</td>\n",
              "      <td>131</td>\n",
              "      <td>0</td>\n",
              "      <td>1</td>\n",
              "      <td>115</td>\n",
              "      <td>1</td>\n",
              "      <td>1.2</td>\n",
              "      <td>1</td>\n",
              "      <td>1</td>\n",
              "      <td>3</td>\n",
              "      <td>0</td>\n",
              "    </tr>\n",
              "    <tr>\n",
              "      <th>302</th>\n",
              "      <td>57</td>\n",
              "      <td>0</td>\n",
              "      <td>1</td>\n",
              "      <td>130</td>\n",
              "      <td>236</td>\n",
              "      <td>0</td>\n",
              "      <td>0</td>\n",
              "      <td>174</td>\n",
              "      <td>0</td>\n",
              "      <td>0.0</td>\n",
              "      <td>1</td>\n",
              "      <td>1</td>\n",
              "      <td>2</td>\n",
              "      <td>0</td>\n",
              "    </tr>\n",
              "  </tbody>\n",
              "</table>\n",
              "<p>303 rows × 14 columns</p>\n",
              "</div>"
            ],
            "text/plain": [
              "     age  sex  cp  trtbps  chol  fbs  restecg  thalachh  exng  oldpeak  slp  \\\n",
              "0     63    1   3     145   233    1        0       150     0      2.3    0   \n",
              "1     37    1   2     130   250    0        1       187     0      3.5    0   \n",
              "2     41    0   1     130   204    0        0       172     0      1.4    2   \n",
              "3     56    1   1     120   236    0        1       178     0      0.8    2   \n",
              "4     57    0   0     120   354    0        1       163     1      0.6    2   \n",
              "..   ...  ...  ..     ...   ...  ...      ...       ...   ...      ...  ...   \n",
              "298   57    0   0     140   241    0        1       123     1      0.2    1   \n",
              "299   45    1   3     110   264    0        1       132     0      1.2    1   \n",
              "300   68    1   0     144   193    1        1       141     0      3.4    1   \n",
              "301   57    1   0     130   131    0        1       115     1      1.2    1   \n",
              "302   57    0   1     130   236    0        0       174     0      0.0    1   \n",
              "\n",
              "     caa  thall  output  \n",
              "0      0      1       1  \n",
              "1      0      2       1  \n",
              "2      0      2       1  \n",
              "3      0      2       1  \n",
              "4      0      2       1  \n",
              "..   ...    ...     ...  \n",
              "298    0      3       0  \n",
              "299    0      3       0  \n",
              "300    2      3       0  \n",
              "301    1      3       0  \n",
              "302    1      2       0  \n",
              "\n",
              "[303 rows x 14 columns]"
            ]
          },
          "metadata": {},
          "execution_count": 2
        }
      ],
      "metadata": {
        "colab": {
          "base_uri": "https://localhost:8080/",
          "height": 419
        },
        "id": "gIcTUdWbJTDb",
        "outputId": "4d2df80b-9bed-4bf1-89a4-1406d1c496e4"
      }
    },
    {
      "cell_type": "markdown",
      "source": [
        "## Data Overview\r\n",
        "To better understand the Data Set we need to know if all the columns are correctly name according to\r\n",
        "Data Set definition ,visualize all columns data types and the number of rows."
      ],
      "metadata": {}
    },
    {
      "cell_type": "code",
      "execution_count": null,
      "source": [
        "#importing Heart  Data\r\n",
        "Heart_Data = pd.read_csv(r'heart.csv')\r\n",
        "Heart_Data"
      ],
      "outputs": [],
      "metadata": {}
    },
    {
      "cell_type": "code",
      "execution_count": 3,
      "source": [
        "#Initial Exploration\r\n",
        "# Number of rows\r\n",
        "print(Heart_Data.shape[0])\r\n",
        "\r\n",
        "# Column names\r\n",
        "col=Heart_Data.columns.tolist()\r\n",
        "print(Heart_Data.columns.tolist())\r\n",
        "\r\n",
        "# Data types\r\n",
        "print(Heart_Data.dtypes)\r\n"
      ],
      "outputs": [
        {
          "output_type": "stream",
          "name": "stdout",
          "text": [
            "303\n",
            "['age', 'sex', 'cp', 'trtbps', 'chol', 'fbs', 'restecg', 'thalachh', 'exng', 'oldpeak', 'slp', 'caa', 'thall', 'output']\n",
            "age           int64\n",
            "sex           int64\n",
            "cp            int64\n",
            "trtbps        int64\n",
            "chol          int64\n",
            "fbs           int64\n",
            "restecg       int64\n",
            "thalachh      int64\n",
            "exng          int64\n",
            "oldpeak     float64\n",
            "slp           int64\n",
            "caa           int64\n",
            "thall         int64\n",
            "output        int64\n",
            "dtype: object\n"
          ]
        }
      ],
      "metadata": {
        "ExecuteTime": {
          "end_time": "2017-03-19T23:17:24.151607Z",
          "start_time": "2017-03-19T19:17:24.105167-04:00"
        },
        "jupyter": {
          "outputs_hidden": false
        },
        "run_control": {
          "marked": true
        },
        "id": "ypwEpmjeZlXF",
        "colab": {
          "base_uri": "https://localhost:8080/"
        },
        "outputId": "bfc17ecd-882b-4da5-bac2-848ccfd59a43"
      }
    },
    {
      "cell_type": "code",
      "execution_count": 4,
      "source": [
        "#Data Cleaning \r\n",
        "#Check if there are some null values\r\n",
        "Heart_Data.isnull().sum().sort_values()\r\n",
        "Heart_Data.shape"
      ],
      "outputs": [
        {
          "output_type": "execute_result",
          "data": {
            "text/plain": [
              "(303, 14)"
            ]
          },
          "metadata": {},
          "execution_count": 4
        }
      ],
      "metadata": {
        "id": "525XKuFFvMRM",
        "colab": {
          "base_uri": "https://localhost:8080/"
        },
        "outputId": "72e6a682-83a5-4c76-866f-da17f7808893"
      }
    },
    {
      "cell_type": "markdown",
      "source": [
        "## Categorical Data\r\n",
        "Even if all values are numeric ,based on our data knowledge we can identify some data that are\r\n",
        "Categorical such as RestEcg , Slope,Thall and ChestPain. We need to define some dummy variables\r\n",
        "for each of these columns."
      ],
      "metadata": {}
    },
    {
      "cell_type": "code",
      "execution_count": 5,
      "source": [
        "# Create dummies variables\r\n",
        "#thall column\r\n",
        "Heart_Data['thall'].value_counts()\r\n",
        "thall_dum=pd.get_dummies(Heart_Data['thall'])\r\n",
        "\r\n",
        "thall_dum = thall_dum.set_axis(['thall_None', 'thall_Fixed_Defect', 'thall_Normal','thall_Reversable'], axis=1)\r\n",
        "print(thall_dum)\r\n",
        "#Slope column\r\n",
        "Heart_Data['slp'].value_counts()\r\n",
        "slope_dum=pd.get_dummies(Heart_Data['slp'])\r\n",
        "\r\n",
        "slope_dum = slope_dum.set_axis(['slp_Downsloping', 'slp_Flat', 'slp_Upsloping'], axis=1)\r\n",
        "print(slope_dum)\r\n",
        "#Chest Pain column\r\n",
        "Heart_Data['cp'].value_counts()\r\n",
        "chest_pain_dum=pd.get_dummies(Heart_Data['cp'])\r\n",
        "\r\n",
        "chest_pain_dum = chest_pain_dum.set_axis(['cp_asymptomatic', 'cp_typical_angina', 'cp_atypical_angina','cp_no_angina'], axis=1)\r\n",
        "print(chest_pain_dum)\r\n",
        "#Rest Ecg column\r\n",
        "Heart_Data['restecg'].value_counts()\r\n",
        "rest_ecg=pd.get_dummies(Heart_Data['restecg'])\r\n",
        "\r\n",
        "rest_ecg = rest_ecg.set_axis(['restecg_hypetrophic', 'restecg_normal', 'restecg_abnormal'], axis=1)\r\n",
        "print(rest_ecg)"
      ],
      "outputs": [
        {
          "output_type": "stream",
          "name": "stdout",
          "text": [
            "     thall_None  thall_Fixed_Defect  thall_Normal  thall_Reversable\n",
            "0             0                   1             0                 0\n",
            "1             0                   0             1                 0\n",
            "2             0                   0             1                 0\n",
            "3             0                   0             1                 0\n",
            "4             0                   0             1                 0\n",
            "..          ...                 ...           ...               ...\n",
            "298           0                   0             0                 1\n",
            "299           0                   0             0                 1\n",
            "300           0                   0             0                 1\n",
            "301           0                   0             0                 1\n",
            "302           0                   0             1                 0\n",
            "\n",
            "[303 rows x 4 columns]\n",
            "     slp_Downsloping  slp_Flat  slp_Upsloping\n",
            "0                  1         0              0\n",
            "1                  1         0              0\n",
            "2                  0         0              1\n",
            "3                  0         0              1\n",
            "4                  0         0              1\n",
            "..               ...       ...            ...\n",
            "298                0         1              0\n",
            "299                0         1              0\n",
            "300                0         1              0\n",
            "301                0         1              0\n",
            "302                0         1              0\n",
            "\n",
            "[303 rows x 3 columns]\n",
            "     cp_asymptomatic  cp_typical_angina  cp_atypical_angina  cp_no_angina\n",
            "0                  0                  0                   0             1\n",
            "1                  0                  0                   1             0\n",
            "2                  0                  1                   0             0\n",
            "3                  0                  1                   0             0\n",
            "4                  1                  0                   0             0\n",
            "..               ...                ...                 ...           ...\n",
            "298                1                  0                   0             0\n",
            "299                0                  0                   0             1\n",
            "300                1                  0                   0             0\n",
            "301                1                  0                   0             0\n",
            "302                0                  1                   0             0\n",
            "\n",
            "[303 rows x 4 columns]\n",
            "     restecg_hypetrophic  restecg_normal  restecg_abnormal\n",
            "0                      1               0                 0\n",
            "1                      0               1                 0\n",
            "2                      1               0                 0\n",
            "3                      0               1                 0\n",
            "4                      0               1                 0\n",
            "..                   ...             ...               ...\n",
            "298                    0               1                 0\n",
            "299                    0               1                 0\n",
            "300                    0               1                 0\n",
            "301                    0               1                 0\n",
            "302                    1               0                 0\n",
            "\n",
            "[303 rows x 3 columns]\n"
          ]
        }
      ],
      "metadata": {
        "colab": {
          "base_uri": "https://localhost:8080/"
        },
        "id": "5fwT3cbv3ODw",
        "outputId": "14773252-e2e7-4b59-f77c-519dabcee8b8"
      }
    },
    {
      "cell_type": "code",
      "execution_count": 6,
      "source": [
        "#Edit Data Frame\r\n",
        "Heart_Data_bk=Heart_Data\r\n",
        "Heart_Data=Heart_Data.drop(columns=['slp','thall','restecg','cp'])\r\n",
        "target=Heart_Data['output']\r\n",
        "Heart_Data= Heart_Data.join(rest_ecg)\r\n",
        "Heart_Data= Heart_Data.join(chest_pain_dum)\r\n",
        "Heart_Data= Heart_Data.join(thall_dum)\r\n",
        "Heart_Data= Heart_Data.join(slope_dum)"
      ],
      "outputs": [],
      "metadata": {
        "id": "mDdxTRFcL8w9"
      }
    },
    {
      "cell_type": "code",
      "execution_count": 7,
      "source": [
        "Heart_Data\r\n",
        "y=Heart_Data['output']\r\n",
        "fields = list(Heart_Data.drop(columns='output'))  # everything except \"output\"\r\n",
        "correlations = Heart_Data[fields].corrwith(y)\r\n",
        "correlations.sort_values(inplace=True)\r\n",
        "correlations"
      ],
      "outputs": [
        {
          "output_type": "execute_result",
          "data": {
            "text/plain": [
              "cp_asymptomatic       -0.516015\n",
              "thall_Reversable      -0.486112\n",
              "exng                  -0.436757\n",
              "oldpeak               -0.430696\n",
              "caa                   -0.391724\n",
              "slp_Flat              -0.362053\n",
              "sex                   -0.280937\n",
              "age                   -0.225439\n",
              "restecg_hypetrophic   -0.159775\n",
              "trtbps                -0.144931\n",
              "thall_Fixed_Defect    -0.106589\n",
              "chol                  -0.085239\n",
              "restecg_abnormal      -0.068410\n",
              "slp_Downsloping       -0.063554\n",
              "fbs                   -0.028046\n",
              "thall_None            -0.007293\n",
              "cp_no_angina           0.086957\n",
              "restecg_normal         0.175322\n",
              "cp_typical_angina      0.245879\n",
              "cp_atypical_angina     0.316742\n",
              "slp_Upsloping          0.394066\n",
              "thalachh               0.421741\n",
              "thall_Normal           0.527334\n",
              "dtype: float64"
            ]
          },
          "metadata": {},
          "execution_count": 7
        }
      ],
      "metadata": {
        "colab": {
          "base_uri": "https://localhost:8080/",
          "height": 439
        },
        "id": "1o3Drq6FOjKn",
        "outputId": "5b87e6e7-2176-4ef0-8a19-8445e589c9a2"
      }
    },
    {
      "cell_type": "code",
      "execution_count": 8,
      "source": [
        "os.chdir(r\"C:\\Users\\gdelprat\\OneDrive - Capgemini\\Desktop\\Corsi\\Coursera ML\\Supervised_ML_Class\\Data\")\r\n",
        "\r\n",
        "from colorsetup import colors, palette\r\n",
        "sns.set_palette(palette)\r\n",
        "sns.set_context('talk')\r\n",
        "sns.set_palette(palette)\r\n",
        "sns.set_style('white')\r\n",
        "\r\n",
        "\r\n",
        "\r\n",
        "#ns.pairplot(Heart_Data)\r\n",
        "sns.barplot(fields,correlations)"
      ],
      "outputs": [
        {
          "output_type": "stream",
          "name": "stderr",
          "text": [
            "C:\\Users\\gdelprat\\AppData\\Local\\Programs\\Python\\Python39\\lib\\site-packages\\seaborn\\_decorators.py:36: FutureWarning: Pass the following variables as keyword args: x, y. From version 0.12, the only valid positional argument will be `data`, and passing other arguments without an explicit keyword will result in an error or misinterpretation.\n",
            "  warnings.warn(\n"
          ]
        },
        {
          "output_type": "execute_result",
          "data": {
            "text/plain": [
              "<AxesSubplot:>"
            ]
          },
          "metadata": {},
          "execution_count": 8
        },
        {
          "output_type": "display_data",
          "data": {
            "image/png": "[encoded data removed]",
            "text/plain": [
              "<Figure size 432x288 with 1 Axes>"
            ]
          },
          "metadata": {}
        }
      ],
      "metadata": {}
    },
    {
      "cell_type": "markdown",
      "source": [
        "## Numerical Data\r\n",
        "We need to visualize the numerical columns in order to identify the skewed ones."
      ],
      "metadata": {}
    },
    {
      "cell_type": "code",
      "execution_count": 9,
      "source": [
        "#Numerical Data\r\n",
        "Heart_Data.describe()"
      ],
      "outputs": [
        {
          "output_type": "execute_result",
          "data": {
            "text/html": [
              "<div>\n",
              "<style scoped>\n",
              "    .dataframe tbody tr th:only-of-type {\n",
              "        vertical-align: middle;\n",
              "    }\n",
              "\n",
              "    .dataframe tbody tr th {\n",
              "        vertical-align: top;\n",
              "    }\n",
              "\n",
              "    .dataframe thead th {\n",
              "        text-align: right;\n",
              "    }\n",
              "</style>\n",
              "<table border=\"1\" class=\"dataframe\">\n",
              "  <thead>\n",
              "    <tr style=\"text-align: right;\">\n",
              "      <th></th>\n",
              "      <th>age</th>\n",
              "      <th>sex</th>\n",
              "      <th>trtbps</th>\n",
              "      <th>chol</th>\n",
              "      <th>fbs</th>\n",
              "      <th>thalachh</th>\n",
              "      <th>exng</th>\n",
              "      <th>oldpeak</th>\n",
              "      <th>caa</th>\n",
              "      <th>output</th>\n",
              "      <th>...</th>\n",
              "      <th>cp_typical_angina</th>\n",
              "      <th>cp_atypical_angina</th>\n",
              "      <th>cp_no_angina</th>\n",
              "      <th>thall_None</th>\n",
              "      <th>thall_Fixed_Defect</th>\n",
              "      <th>thall_Normal</th>\n",
              "      <th>thall_Reversable</th>\n",
              "      <th>slp_Downsloping</th>\n",
              "      <th>slp_Flat</th>\n",
              "      <th>slp_Upsloping</th>\n",
              "    </tr>\n",
              "  </thead>\n",
              "  <tbody>\n",
              "    <tr>\n",
              "      <th>count</th>\n",
              "      <td>303.000000</td>\n",
              "      <td>303.000000</td>\n",
              "      <td>303.000000</td>\n",
              "      <td>303.000000</td>\n",
              "      <td>303.000000</td>\n",
              "      <td>303.000000</td>\n",
              "      <td>303.000000</td>\n",
              "      <td>303.000000</td>\n",
              "      <td>303.000000</td>\n",
              "      <td>303.000000</td>\n",
              "      <td>...</td>\n",
              "      <td>303.000000</td>\n",
              "      <td>303.000000</td>\n",
              "      <td>303.000000</td>\n",
              "      <td>303.000000</td>\n",
              "      <td>303.000000</td>\n",
              "      <td>303.000000</td>\n",
              "      <td>303.000000</td>\n",
              "      <td>303.000000</td>\n",
              "      <td>303.000000</td>\n",
              "      <td>303.000000</td>\n",
              "    </tr>\n",
              "    <tr>\n",
              "      <th>mean</th>\n",
              "      <td>54.366337</td>\n",
              "      <td>0.683168</td>\n",
              "      <td>131.623762</td>\n",
              "      <td>246.264026</td>\n",
              "      <td>0.148515</td>\n",
              "      <td>149.646865</td>\n",
              "      <td>0.326733</td>\n",
              "      <td>1.039604</td>\n",
              "      <td>0.729373</td>\n",
              "      <td>0.544554</td>\n",
              "      <td>...</td>\n",
              "      <td>0.165017</td>\n",
              "      <td>0.287129</td>\n",
              "      <td>0.075908</td>\n",
              "      <td>0.006601</td>\n",
              "      <td>0.059406</td>\n",
              "      <td>0.547855</td>\n",
              "      <td>0.386139</td>\n",
              "      <td>0.069307</td>\n",
              "      <td>0.462046</td>\n",
              "      <td>0.468647</td>\n",
              "    </tr>\n",
              "    <tr>\n",
              "      <th>std</th>\n",
              "      <td>9.082101</td>\n",
              "      <td>0.466011</td>\n",
              "      <td>17.538143</td>\n",
              "      <td>51.830751</td>\n",
              "      <td>0.356198</td>\n",
              "      <td>22.905161</td>\n",
              "      <td>0.469794</td>\n",
              "      <td>1.161075</td>\n",
              "      <td>1.022606</td>\n",
              "      <td>0.498835</td>\n",
              "      <td>...</td>\n",
              "      <td>0.371809</td>\n",
              "      <td>0.453171</td>\n",
              "      <td>0.265288</td>\n",
              "      <td>0.081110</td>\n",
              "      <td>0.236774</td>\n",
              "      <td>0.498528</td>\n",
              "      <td>0.487668</td>\n",
              "      <td>0.254395</td>\n",
              "      <td>0.499382</td>\n",
              "      <td>0.499842</td>\n",
              "    </tr>\n",
              "    <tr>\n",
              "      <th>min</th>\n",
              "      <td>29.000000</td>\n",
              "      <td>0.000000</td>\n",
              "      <td>94.000000</td>\n",
              "      <td>126.000000</td>\n",
              "      <td>0.000000</td>\n",
              "      <td>71.000000</td>\n",
              "      <td>0.000000</td>\n",
              "      <td>0.000000</td>\n",
              "      <td>0.000000</td>\n",
              "      <td>0.000000</td>\n",
              "      <td>...</td>\n",
              "      <td>0.000000</td>\n",
              "      <td>0.000000</td>\n",
              "      <td>0.000000</td>\n",
              "      <td>0.000000</td>\n",
              "      <td>0.000000</td>\n",
              "      <td>0.000000</td>\n",
              "      <td>0.000000</td>\n",
              "      <td>0.000000</td>\n",
              "      <td>0.000000</td>\n",
              "      <td>0.000000</td>\n",
              "    </tr>\n",
              "    <tr>\n",
              "      <th>25%</th>\n",
              "      <td>47.500000</td>\n",
              "      <td>0.000000</td>\n",
              "      <td>120.000000</td>\n",
              "      <td>211.000000</td>\n",
              "      <td>0.000000</td>\n",
              "      <td>133.500000</td>\n",
              "      <td>0.000000</td>\n",
              "      <td>0.000000</td>\n",
              "      <td>0.000000</td>\n",
              "      <td>0.000000</td>\n",
              "      <td>...</td>\n",
              "      <td>0.000000</td>\n",
              "      <td>0.000000</td>\n",
              "      <td>0.000000</td>\n",
              "      <td>0.000000</td>\n",
              "      <td>0.000000</td>\n",
              "      <td>0.000000</td>\n",
              "      <td>0.000000</td>\n",
              "      <td>0.000000</td>\n",
              "      <td>0.000000</td>\n",
              "      <td>0.000000</td>\n",
              "    </tr>\n",
              "    <tr>\n",
              "      <th>50%</th>\n",
              "      <td>55.000000</td>\n",
              "      <td>1.000000</td>\n",
              "      <td>130.000000</td>\n",
              "      <td>240.000000</td>\n",
              "      <td>0.000000</td>\n",
              "      <td>153.000000</td>\n",
              "      <td>0.000000</td>\n",
              "      <td>0.800000</td>\n",
              "      <td>0.000000</td>\n",
              "      <td>1.000000</td>\n",
              "      <td>...</td>\n",
              "      <td>0.000000</td>\n",
              "      <td>0.000000</td>\n",
              "      <td>0.000000</td>\n",
              "      <td>0.000000</td>\n",
              "      <td>0.000000</td>\n",
              "      <td>1.000000</td>\n",
              "      <td>0.000000</td>\n",
              "      <td>0.000000</td>\n",
              "      <td>0.000000</td>\n",
              "      <td>0.000000</td>\n",
              "    </tr>\n",
              "    <tr>\n",
              "      <th>75%</th>\n",
              "      <td>61.000000</td>\n",
              "      <td>1.000000</td>\n",
              "      <td>140.000000</td>\n",
              "      <td>274.500000</td>\n",
              "      <td>0.000000</td>\n",
              "      <td>166.000000</td>\n",
              "      <td>1.000000</td>\n",
              "      <td>1.600000</td>\n",
              "      <td>1.000000</td>\n",
              "      <td>1.000000</td>\n",
              "      <td>...</td>\n",
              "      <td>0.000000</td>\n",
              "      <td>1.000000</td>\n",
              "      <td>0.000000</td>\n",
              "      <td>0.000000</td>\n",
              "      <td>0.000000</td>\n",
              "      <td>1.000000</td>\n",
              "      <td>1.000000</td>\n",
              "      <td>0.000000</td>\n",
              "      <td>1.000000</td>\n",
              "      <td>1.000000</td>\n",
              "    </tr>\n",
              "    <tr>\n",
              "      <th>max</th>\n",
              "      <td>77.000000</td>\n",
              "      <td>1.000000</td>\n",
              "      <td>200.000000</td>\n",
              "      <td>564.000000</td>\n",
              "      <td>1.000000</td>\n",
              "      <td>202.000000</td>\n",
              "      <td>1.000000</td>\n",
              "      <td>6.200000</td>\n",
              "      <td>4.000000</td>\n",
              "      <td>1.000000</td>\n",
              "      <td>...</td>\n",
              "      <td>1.000000</td>\n",
              "      <td>1.000000</td>\n",
              "      <td>1.000000</td>\n",
              "      <td>1.000000</td>\n",
              "      <td>1.000000</td>\n",
              "      <td>1.000000</td>\n",
              "      <td>1.000000</td>\n",
              "      <td>1.000000</td>\n",
              "      <td>1.000000</td>\n",
              "      <td>1.000000</td>\n",
              "    </tr>\n",
              "  </tbody>\n",
              "</table>\n",
              "<p>8 rows × 24 columns</p>\n",
              "</div>"
            ],
            "text/plain": [
              "              age         sex      trtbps        chol         fbs    thalachh  \\\n",
              "count  303.000000  303.000000  303.000000  303.000000  303.000000  303.000000   \n",
              "mean    54.366337    0.683168  131.623762  246.264026    0.148515  149.646865   \n",
              "std      9.082101    0.466011   17.538143   51.830751    0.356198   22.905161   \n",
              "min     29.000000    0.000000   94.000000  126.000000    0.000000   71.000000   \n",
              "25%     47.500000    0.000000  120.000000  211.000000    0.000000  133.500000   \n",
              "50%     55.000000    1.000000  130.000000  240.000000    0.000000  153.000000   \n",
              "75%     61.000000    1.000000  140.000000  274.500000    0.000000  166.000000   \n",
              "max     77.000000    1.000000  200.000000  564.000000    1.000000  202.000000   \n",
              "\n",
              "             exng     oldpeak         caa      output  ...  cp_typical_angina  \\\n",
              "count  303.000000  303.000000  303.000000  303.000000  ...         303.000000   \n",
              "mean     0.326733    1.039604    0.729373    0.544554  ...           0.165017   \n",
              "std      0.469794    1.161075    1.022606    0.498835  ...           0.371809   \n",
              "min      0.000000    0.000000    0.000000    0.000000  ...           0.000000   \n",
              "25%      0.000000    0.000000    0.000000    0.000000  ...           0.000000   \n",
              "50%      0.000000    0.800000    0.000000    1.000000  ...           0.000000   \n",
              "75%      1.000000    1.600000    1.000000    1.000000  ...           0.000000   \n",
              "max      1.000000    6.200000    4.000000    1.000000  ...           1.000000   \n",
              "\n",
              "       cp_atypical_angina  cp_no_angina  thall_None  thall_Fixed_Defect  \\\n",
              "count          303.000000    303.000000  303.000000          303.000000   \n",
              "mean             0.287129      0.075908    0.006601            0.059406   \n",
              "std              0.453171      0.265288    0.081110            0.236774   \n",
              "min              0.000000      0.000000    0.000000            0.000000   \n",
              "25%              0.000000      0.000000    0.000000            0.000000   \n",
              "50%              0.000000      0.000000    0.000000            0.000000   \n",
              "75%              1.000000      0.000000    0.000000            0.000000   \n",
              "max              1.000000      1.000000    1.000000            1.000000   \n",
              "\n",
              "       thall_Normal  thall_Reversable  slp_Downsloping    slp_Flat  \\\n",
              "count    303.000000        303.000000       303.000000  303.000000   \n",
              "mean       0.547855          0.386139         0.069307    0.462046   \n",
              "std        0.498528          0.487668         0.254395    0.499382   \n",
              "min        0.000000          0.000000         0.000000    0.000000   \n",
              "25%        0.000000          0.000000         0.000000    0.000000   \n",
              "50%        1.000000          0.000000         0.000000    0.000000   \n",
              "75%        1.000000          1.000000         0.000000    1.000000   \n",
              "max        1.000000          1.000000         1.000000    1.000000   \n",
              "\n",
              "       slp_Upsloping  \n",
              "count     303.000000  \n",
              "mean        0.468647  \n",
              "std         0.499842  \n",
              "min         0.000000  \n",
              "25%         0.000000  \n",
              "50%         0.000000  \n",
              "75%         1.000000  \n",
              "max         1.000000  \n",
              "\n",
              "[8 rows x 24 columns]"
            ]
          },
          "metadata": {},
          "execution_count": 9
        }
      ],
      "metadata": {
        "colab": {
          "base_uri": "https://localhost:8080/",
          "height": 317
        },
        "id": "eGp02uPHPtMv",
        "outputId": "e66e25ca-e0f0-4611-8414-9c90d7456d33"
      }
    },
    {
      "cell_type": "code",
      "execution_count": 10,
      "source": [
        "# Create a functions to plot multiple bar charts\r\n",
        "def hist_loop(data: pd.DataFrame,\r\n",
        "              rows: int,\r\n",
        "              cols: int,\r\n",
        "              figsize: tuple):\r\n",
        "    fig, axes = plt.subplots(rows,cols, figsize=figsize)\r\n",
        "    for i, ax in enumerate(axes.flatten()):\r\n",
        "        if i < len(data.columns):\r\n",
        "            data[sorted(data.columns)[i]].plot.hist(bins=30, ax=ax)\r\n",
        "            ax.set_title(f'{sorted(data.columns)[i]} distribution', fontsize=10)\r\n",
        "            ax.tick_params(axis='x', labelsize=10)\r\n",
        "            ax.tick_params(axis='y', labelsize=10)\r\n",
        "            ax.get_yaxis().get_label().set_visible(False)\r\n",
        "        else:\r\n",
        "            fig.delaxes(ax=ax)\r\n",
        "    fig.tight_layout()\r\n",
        "\r\n"
      ],
      "outputs": [],
      "metadata": {
        "id": "knIoePajQlne"
      }
    },
    {
      "cell_type": "code",
      "execution_count": 11,
      "source": [
        "Heart_Data_num=Heart_Data_bk.drop(columns=['slp','thall','restecg','cp','sex','output','caa','exng','fbs'])\r\n",
        "hist_loop(data=Heart_Data_num,\r\n",
        "          rows=3,\r\n",
        "          cols=3,\r\n",
        "          figsize=(20,10))"
      ],
      "outputs": [
        {
          "output_type": "display_data",
          "data": {
            "image/png": "[encoded data removed]",
            "text/plain": [
              "<Figure size 1440x720 with 5 Axes>"
            ]
          },
          "metadata": {}
        }
      ],
      "metadata": {
        "colab": {
          "base_uri": "https://localhost:8080/",
          "height": 504
        },
        "id": "BjU5X1uPQnq2",
        "outputId": "dc3ce281-00cb-4cda-c2d6-492ee4728f51"
      }
    },
    {
      "cell_type": "markdown",
      "source": [
        "## Log-Transformation\r\n",
        "Chol and oldpeak are slightly skewed , oldpeak is very left skewed.\r\n",
        "For the skewed ones we apply the log transformation and check for skewness again.\r\n"
      ],
      "metadata": {}
    },
    {
      "cell_type": "code",
      "execution_count": 12,
      "source": [
        "# Perform log transformation\r\n",
        "for col in Heart_Data_num.columns.values:\r\n",
        "    Heart_Data_num['log_' + col] = Heart_Data_num[col].apply(np.log1p)\r\n",
        "Heart_Data_num"
      ],
      "outputs": [
        {
          "output_type": "execute_result",
          "data": {
            "text/html": [
              "<div>\n",
              "<style scoped>\n",
              "    .dataframe tbody tr th:only-of-type {\n",
              "        vertical-align: middle;\n",
              "    }\n",
              "\n",
              "    .dataframe tbody tr th {\n",
              "        vertical-align: top;\n",
              "    }\n",
              "\n",
              "    .dataframe thead th {\n",
              "        text-align: right;\n",
              "    }\n",
              "</style>\n",
              "<table border=\"1\" class=\"dataframe\">\n",
              "  <thead>\n",
              "    <tr style=\"text-align: right;\">\n",
              "      <th></th>\n",
              "      <th>age</th>\n",
              "      <th>trtbps</th>\n",
              "      <th>chol</th>\n",
              "      <th>thalachh</th>\n",
              "      <th>oldpeak</th>\n",
              "      <th>log_age</th>\n",
              "      <th>log_trtbps</th>\n",
              "      <th>log_chol</th>\n",
              "      <th>log_thalachh</th>\n",
              "      <th>log_oldpeak</th>\n",
              "    </tr>\n",
              "  </thead>\n",
              "  <tbody>\n",
              "    <tr>\n",
              "      <th>0</th>\n",
              "      <td>63</td>\n",
              "      <td>145</td>\n",
              "      <td>233</td>\n",
              "      <td>150</td>\n",
              "      <td>2.3</td>\n",
              "      <td>4.158883</td>\n",
              "      <td>4.983607</td>\n",
              "      <td>5.455321</td>\n",
              "      <td>5.017280</td>\n",
              "      <td>1.193922</td>\n",
              "    </tr>\n",
              "    <tr>\n",
              "      <th>1</th>\n",
              "      <td>37</td>\n",
              "      <td>130</td>\n",
              "      <td>250</td>\n",
              "      <td>187</td>\n",
              "      <td>3.5</td>\n",
              "      <td>3.637586</td>\n",
              "      <td>4.875197</td>\n",
              "      <td>5.525453</td>\n",
              "      <td>5.236442</td>\n",
              "      <td>1.504077</td>\n",
              "    </tr>\n",
              "    <tr>\n",
              "      <th>2</th>\n",
              "      <td>41</td>\n",
              "      <td>130</td>\n",
              "      <td>204</td>\n",
              "      <td>172</td>\n",
              "      <td>1.4</td>\n",
              "      <td>3.737670</td>\n",
              "      <td>4.875197</td>\n",
              "      <td>5.323010</td>\n",
              "      <td>5.153292</td>\n",
              "      <td>0.875469</td>\n",
              "    </tr>\n",
              "    <tr>\n",
              "      <th>3</th>\n",
              "      <td>56</td>\n",
              "      <td>120</td>\n",
              "      <td>236</td>\n",
              "      <td>178</td>\n",
              "      <td>0.8</td>\n",
              "      <td>4.043051</td>\n",
              "      <td>4.795791</td>\n",
              "      <td>5.468060</td>\n",
              "      <td>5.187386</td>\n",
              "      <td>0.587787</td>\n",
              "    </tr>\n",
              "    <tr>\n",
              "      <th>4</th>\n",
              "      <td>57</td>\n",
              "      <td>120</td>\n",
              "      <td>354</td>\n",
              "      <td>163</td>\n",
              "      <td>0.6</td>\n",
              "      <td>4.060443</td>\n",
              "      <td>4.795791</td>\n",
              "      <td>5.872118</td>\n",
              "      <td>5.099866</td>\n",
              "      <td>0.470004</td>\n",
              "    </tr>\n",
              "    <tr>\n",
              "      <th>...</th>\n",
              "      <td>...</td>\n",
              "      <td>...</td>\n",
              "      <td>...</td>\n",
              "      <td>...</td>\n",
              "      <td>...</td>\n",
              "      <td>...</td>\n",
              "      <td>...</td>\n",
              "      <td>...</td>\n",
              "      <td>...</td>\n",
              "      <td>...</td>\n",
              "    </tr>\n",
              "    <tr>\n",
              "      <th>298</th>\n",
              "      <td>57</td>\n",
              "      <td>140</td>\n",
              "      <td>241</td>\n",
              "      <td>123</td>\n",
              "      <td>0.2</td>\n",
              "      <td>4.060443</td>\n",
              "      <td>4.948760</td>\n",
              "      <td>5.488938</td>\n",
              "      <td>4.820282</td>\n",
              "      <td>0.182322</td>\n",
              "    </tr>\n",
              "    <tr>\n",
              "      <th>299</th>\n",
              "      <td>45</td>\n",
              "      <td>110</td>\n",
              "      <td>264</td>\n",
              "      <td>132</td>\n",
              "      <td>1.2</td>\n",
              "      <td>3.828641</td>\n",
              "      <td>4.709530</td>\n",
              "      <td>5.579730</td>\n",
              "      <td>4.890349</td>\n",
              "      <td>0.788457</td>\n",
              "    </tr>\n",
              "    <tr>\n",
              "      <th>300</th>\n",
              "      <td>68</td>\n",
              "      <td>144</td>\n",
              "      <td>193</td>\n",
              "      <td>141</td>\n",
              "      <td>3.4</td>\n",
              "      <td>4.234107</td>\n",
              "      <td>4.976734</td>\n",
              "      <td>5.267858</td>\n",
              "      <td>4.955827</td>\n",
              "      <td>1.481605</td>\n",
              "    </tr>\n",
              "    <tr>\n",
              "      <th>301</th>\n",
              "      <td>57</td>\n",
              "      <td>130</td>\n",
              "      <td>131</td>\n",
              "      <td>115</td>\n",
              "      <td>1.2</td>\n",
              "      <td>4.060443</td>\n",
              "      <td>4.875197</td>\n",
              "      <td>4.882802</td>\n",
              "      <td>4.753590</td>\n",
              "      <td>0.788457</td>\n",
              "    </tr>\n",
              "    <tr>\n",
              "      <th>302</th>\n",
              "      <td>57</td>\n",
              "      <td>130</td>\n",
              "      <td>236</td>\n",
              "      <td>174</td>\n",
              "      <td>0.0</td>\n",
              "      <td>4.060443</td>\n",
              "      <td>4.875197</td>\n",
              "      <td>5.468060</td>\n",
              "      <td>5.164786</td>\n",
              "      <td>0.000000</td>\n",
              "    </tr>\n",
              "  </tbody>\n",
              "</table>\n",
              "<p>303 rows × 10 columns</p>\n",
              "</div>"
            ],
            "text/plain": [
              "     age  trtbps  chol  thalachh  oldpeak   log_age  log_trtbps  log_chol  \\\n",
              "0     63     145   233       150      2.3  4.158883    4.983607  5.455321   \n",
              "1     37     130   250       187      3.5  3.637586    4.875197  5.525453   \n",
              "2     41     130   204       172      1.4  3.737670    4.875197  5.323010   \n",
              "3     56     120   236       178      0.8  4.043051    4.795791  5.468060   \n",
              "4     57     120   354       163      0.6  4.060443    4.795791  5.872118   \n",
              "..   ...     ...   ...       ...      ...       ...         ...       ...   \n",
              "298   57     140   241       123      0.2  4.060443    4.948760  5.488938   \n",
              "299   45     110   264       132      1.2  3.828641    4.709530  5.579730   \n",
              "300   68     144   193       141      3.4  4.234107    4.976734  5.267858   \n",
              "301   57     130   131       115      1.2  4.060443    4.875197  4.882802   \n",
              "302   57     130   236       174      0.0  4.060443    4.875197  5.468060   \n",
              "\n",
              "     log_thalachh  log_oldpeak  \n",
              "0        5.017280     1.193922  \n",
              "1        5.236442     1.504077  \n",
              "2        5.153292     0.875469  \n",
              "3        5.187386     0.587787  \n",
              "4        5.099866     0.470004  \n",
              "..            ...          ...  \n",
              "298      4.820282     0.182322  \n",
              "299      4.890349     0.788457  \n",
              "300      4.955827     1.481605  \n",
              "301      4.753590     0.788457  \n",
              "302      5.164786     0.000000  \n",
              "\n",
              "[303 rows x 10 columns]"
            ]
          },
          "metadata": {},
          "execution_count": 12
        }
      ],
      "metadata": {
        "colab": {
          "base_uri": "https://localhost:8080/",
          "height": 419
        },
        "id": "rCkUmAQth75i",
        "outputId": "568a1242-0c9b-4f39-9b56-d825b0cd49ee"
      }
    },
    {
      "cell_type": "code",
      "execution_count": 13,
      "source": [
        "log_df = Heart_Data_num.filter(regex='^log_', axis=1)\r\n",
        "hist_loop(data=log_df,\r\n",
        "          rows=3,\r\n",
        "          cols=3,\r\n",
        "          figsize=(20,10))\r\n",
        "\r\n",
        "\r\n",
        "Heart_Data_num_log=Heart_Data_num.drop(columns=['age','chol','trtbps','thalachh','oldpeak'])"
      ],
      "outputs": [
        {
          "output_type": "display_data",
          "data": {
            "image/png": "[encoded data removed]",
            "text/plain": [
              "<Figure size 1440x720 with 5 Axes>"
            ]
          },
          "metadata": {}
        }
      ],
      "metadata": {
        "colab": {
          "base_uri": "https://localhost:8080/",
          "height": 504
        },
        "id": "UqudnyEukIBR",
        "outputId": "b1c09d19-02d8-4674-eab4-60656b54296c"
      }
    },
    {
      "cell_type": "code",
      "execution_count": 14,
      "source": [
        "#Join log data with categorical data\r\n",
        "Heart_Data=Heart_Data.drop(columns=['age','chol','trtbps','thalachh','oldpeak'])\r\n",
        "Heart_Data_Fin=Heart_Data.join(Heart_Data_num_log)\r\n",
        "Heart_Data_Fin.to_csv('Heart_Data_Clean.csv',index='False')\r\n"
      ],
      "outputs": [],
      "metadata": {
        "id": "OW9k62zwmhi1"
      }
    },
    {
      "cell_type": "markdown",
      "source": [
        "## Hypothesis Testing\r\n",
        "We can test for example that age and cholesterol levels have the same mean using a t-student test."
      ],
      "metadata": {}
    },
    {
      "cell_type": "code",
      "execution_count": 15,
      "source": [
        "#Hypothesis Testing \r\n",
        "import matplotlib.pyplot as plt\r\n",
        "import numpy as np\r\n",
        "from scipy.stats import ttest_ind, t\r\n",
        "import math\r\n",
        "\r\n",
        "s1= Heart_Data_Fin['log_age']\r\n",
        "s2= Heart_Data_Fin['log_chol']\r\n",
        "\r\n",
        "result = ttest_ind(s1, s2, equal_var=False)\r\n",
        "print(\"t-value\" + \" \"+ str(result.statistic))\r\n",
        "print(\"p-value\" + \" \" + str(result.pvalue))"
      ],
      "outputs": [
        {
          "output_type": "stream",
          "name": "stdout",
          "text": [
            "t-value -97.56842960009759\n",
            "p-value 0.0\n"
          ]
        }
      ],
      "metadata": {
        "colab": {
          "base_uri": "https://localhost:8080/"
        },
        "id": "ruiRNE2vqY_h",
        "outputId": "497ed7f1-5ba9-4dd3-bd0f-ff78f0f5cc84"
      }
    },
    {
      "cell_type": "markdown",
      "source": [
        "Other test can be done age against resting blood pressure (“trtbps”)"
      ],
      "metadata": {}
    },
    {
      "cell_type": "code",
      "execution_count": 16,
      "source": [
        "s3= Heart_Data_Fin['log_age']\r\n",
        "s4= Heart_Data_Fin['log_trtbps']\r\n",
        "\r\n",
        "result2 = ttest_ind(s3, s4, equal_var=False)\r\n",
        "print(\"t-value\" + \" \"+ str(result2.statistic))\r\n",
        "print(\"p-value\" + \" \" + str(result2.pvalue))"
      ],
      "outputs": [
        {
          "output_type": "stream",
          "name": "stdout",
          "text": [
            "t-value -71.23724124308912\n",
            "p-value 3.0305521351436204e-283\n"
          ]
        }
      ],
      "metadata": {
        "colab": {
          "base_uri": "https://localhost:8080/"
        },
        "id": "kwcT4JNT4n13",
        "outputId": "aec798d8-95ec-43ff-837f-e7f7f32a1b34"
      }
    },
    {
      "cell_type": "markdown",
      "source": [
        "These tests show that in both case we reject the null hypothesis"
      ],
      "metadata": {}
    },
    {
      "cell_type": "markdown",
      "source": [
        "# Regression Models\r\n",
        "The objective of this section is to be able to define a model to predict if a patient can\r\n",
        "have an heart attack based on some heart parameters\r\n"
      ],
      "metadata": {}
    },
    {
      "cell_type": "markdown",
      "source": [
        "## Train / Test Split\r\n",
        "As first step we proceed to split the dataset in Train and Test Split and the using a\r\n",
        "k-fold cross validation in order to prevent overfitting."
      ],
      "metadata": {}
    },
    {
      "cell_type": "code",
      "execution_count": 17,
      "source": [
        "from sklearn.preprocessing import StandardScaler, PolynomialFeatures\r\n",
        "from sklearn.model_selection import KFold, cross_val_predict\r\n",
        "from sklearn.linear_model import LinearRegression, Lasso, Ridge\r\n",
        "from sklearn.metrics import r2_score\r\n",
        "from sklearn.pipeline import Pipeline\r\n",
        "\r\n",
        "\r\n",
        "#Regression  \r\n",
        "x=Heart_Data_Fin.drop(columns='output')\r\n",
        "y=Heart_Data_Fin['output']\r\n",
        "print(y)\r\n",
        "#K-Fold\r\n",
        "kf = KFold(shuffle=True, random_state=72018, n_splits=3)\r\n"
      ],
      "outputs": [
        {
          "output_type": "stream",
          "name": "stdout",
          "text": [
            "0      1\n",
            "1      1\n",
            "2      1\n",
            "3      1\n",
            "4      1\n",
            "      ..\n",
            "298    0\n",
            "299    0\n",
            "300    0\n",
            "301    0\n",
            "302    0\n",
            "Name: output, Length: 303, dtype: int64\n"
          ]
        }
      ],
      "metadata": {
        "colab": {
          "base_uri": "https://localhost:8080/"
        },
        "id": "-t0Y3AAf6jSe",
        "outputId": "5b2a5497-2ea4-4544-eb05-215edcc25469"
      }
    },
    {
      "cell_type": "markdown",
      "source": [
        "## Finding The Best Model\r\n",
        "Now we proceed to test some regression model to find witch better perform with our\r\n",
        "data set"
      ],
      "metadata": {}
    },
    {
      "cell_type": "code",
      "execution_count": 18,
      "source": [
        "from sklearn.metrics import r2_score, mean_squared_error\r\n",
        "#Linear Regression\r\n",
        "# vanilla regression and K-fold cross validation\r\n",
        "s = StandardScaler()\r\n",
        "lr = LinearRegression()\r\n",
        "scores = []\r\n",
        "lr = LinearRegression()\r\n",
        "\r\n",
        "for train_index, test_index in kf.split(x):\r\n",
        "    X_train, X_test, y_train, y_test = (x.iloc[train_index, :], \r\n",
        "                                        x.iloc[test_index, :], \r\n",
        "                                        y[train_index], \r\n",
        "                                        y[test_index])\r\n",
        "    \r\n",
        "    lr.fit(X_train, y_train)\r\n",
        "        \r\n",
        "    y_pred = lr.predict(X_test)\r\n",
        "\r\n",
        "    score = r2_score(y_test.values, y_pred)\r\n",
        "    \r\n",
        "    scores.append(score)\r\n",
        "    \r\n",
        "scores\r\n",
        "\r\n",
        "# with pipeline\r\n",
        "estimator = Pipeline([(\"scaler\", s),(\"regression\", lr)])\r\n",
        "predictions_lr = cross_val_predict(estimator, X_train, y_train, cv=kf)\r\n",
        "linear_score = r2_score(y_train, predictions_lr)\r\n",
        "\r\n",
        "linear_score, score #almost identical"
      ],
      "outputs": [
        {
          "output_type": "execute_result",
          "data": {
            "text/plain": [
              "(0.489701786360916, 0.4407267177874896)"
            ]
          },
          "metadata": {},
          "execution_count": 18
        }
      ],
      "metadata": {
        "colab": {
          "base_uri": "https://localhost:8080/"
        },
        "id": "Rw3uSVDzbWB1",
        "outputId": "f226cc7c-a5ed-4d10-cdaa-98d301a1cc99"
      }
    },
    {
      "cell_type": "code",
      "execution_count": 19,
      "source": [
        "#Adding Polynomial Tranformations\r\n",
        "\r\n",
        "# lasso regression and K-fold cross validation\r\n",
        "s = StandardScaler()\r\n",
        "pf = PolynomialFeatures(degree=2)\r\n",
        "kf = KFold(shuffle=True, random_state=72018, n_splits=3)\r\n",
        "scores = []\r\n",
        "alphas = np.arange(10e-2, 1, 0.1)\r\n",
        "predictions_lsr = []\r\n",
        "for alpha in alphas:\r\n",
        "    las = Lasso(alpha=alpha, max_iter=100000)\r\n",
        "    \r\n",
        "    estimator = Pipeline([\r\n",
        "        (\"scaler\", s),\r\n",
        "        (\"make_higher_degree\", pf),\r\n",
        "        (\"lasso_regression\", las)])\r\n",
        "\r\n",
        "    predictions_lsr = cross_val_predict(estimator, X_train, y_train, cv = kf)\r\n",
        "    \r\n",
        "    score = r2_score(y_train, predictions_lsr)\r\n",
        "    \r\n",
        "    scores.append(score)\r\n",
        "plt.semilogx(alphas, scores, '-o', color='purple')\r\n",
        "plt.title('Lasso Regression')\r\n",
        "plt.xlabel('$\\\\alpha$')\r\n",
        "plt.ylabel('$R^2$');"
      ],
      "outputs": [
        {
          "output_type": "display_data",
          "data": {
            "image/png": "[encoded data removed]",
            "text/plain": [
              "<Figure size 432x288 with 1 Axes>"
            ]
          },
          "metadata": {}
        }
      ],
      "metadata": {
        "colab": {
          "base_uri": "https://localhost:8080/",
          "height": 299
        },
        "id": "eh0C5Jz1cfiu",
        "outputId": "b22d753e-18eb-429b-d103-bb380da2b9e9"
      }
    },
    {
      "cell_type": "code",
      "execution_count": 20,
      "source": [
        "best_estimator = Pipeline([\r\n",
        "                    (\"scaler\", s),\r\n",
        "                    (\"make_higher_degree\", PolynomialFeatures(degree=2)),\r\n",
        "                    (\"lasso_regression\", Lasso(alpha=0.03))])\r\n",
        "\r\n",
        "best_estimator.fit(X_train, y_train)\r\n",
        "lasso_score = best_estimator.score(X_train, y_train)\r\n",
        "lasso_score"
      ],
      "outputs": [
        {
          "output_type": "execute_result",
          "data": {
            "text/plain": [
              "0.642254116840471"
            ]
          },
          "metadata": {},
          "execution_count": 20
        }
      ],
      "metadata": {
        "colab": {
          "base_uri": "https://localhost:8080/"
        },
        "id": "9823X_2ekBNo",
        "outputId": "9c9cfe4a-b1ac-4e16-da19-aadbc3500e48"
      }
    },
    {
      "cell_type": "code",
      "execution_count": 21,
      "source": [
        "# ridge regression and K-fold cross validation\r\n",
        "pf = PolynomialFeatures(degree=2)\r\n",
        "alphas = np.arange(10e-2, 1, 0.1)\r\n",
        "scores=[]\r\n",
        "predictions_rr = []\r\n",
        "for alpha in alphas:\r\n",
        "    ridge = Ridge(alpha=alpha, max_iter=100000)\r\n",
        "\r\n",
        "    estimator = Pipeline([\r\n",
        "        (\"scaler\", s),\r\n",
        "        (\"polynomial_features\", pf),\r\n",
        "        (\"ridge_regression\", ridge)])\r\n",
        "\r\n",
        "    predictions_rr = cross_val_predict(estimator, X_train, y_train, cv = kf)\r\n",
        "    score = r2_score(y_train, predictions_rr)\r\n",
        "    scores.append(score)\r\n",
        "\r\n",
        "plt.plot(alphas, scores, '-o', color='purple')\r\n",
        "plt.title('Ridge Regression')\r\n",
        "plt.xlabel('$\\\\alpha$')\r\n",
        "plt.ylabel('$R^2$');"
      ],
      "outputs": [
        {
          "output_type": "display_data",
          "data": {
            "image/png": "[encoded data removed]",
            "text/plain": [
              "<Figure size 432x288 with 1 Axes>"
            ]
          },
          "metadata": {}
        }
      ],
      "metadata": {
        "colab": {
          "base_uri": "https://localhost:8080/",
          "height": 295
        },
        "id": "08n9La94sBt1",
        "outputId": "8e472bd2-a5c5-483c-b37e-2dad016f9226"
      }
    },
    {
      "cell_type": "code",
      "execution_count": 22,
      "source": [
        "\r\n",
        "best_estimator = Pipeline([\r\n",
        "                    (\"scaler\", s),\r\n",
        "                    (\"make_higher_degree\", PolynomialFeatures(degree=2)),\r\n",
        "                    (\"ridge_regression\", Ridge(alpha=0.03))])\r\n",
        "\r\n",
        "best_estimator.fit(X_train, y_train)\r\n",
        "ridge_score = best_estimator.score(X_train, y_train)\r\n",
        "# comparing scores\r\n",
        "pd.DataFrame([[linear_score, lasso_score, ridge_score]],columns=['linear', 'lasso', 'ridge'], index=['score'])"
      ],
      "outputs": [
        {
          "output_type": "execute_result",
          "data": {
            "text/html": [
              "<div>\n",
              "<style scoped>\n",
              "    .dataframe tbody tr th:only-of-type {\n",
              "        vertical-align: middle;\n",
              "    }\n",
              "\n",
              "    .dataframe tbody tr th {\n",
              "        vertical-align: top;\n",
              "    }\n",
              "\n",
              "    .dataframe thead th {\n",
              "        text-align: right;\n",
              "    }\n",
              "</style>\n",
              "<table border=\"1\" class=\"dataframe\">\n",
              "  <thead>\n",
              "    <tr style=\"text-align: right;\">\n",
              "      <th></th>\n",
              "      <th>linear</th>\n",
              "      <th>lasso</th>\n",
              "      <th>ridge</th>\n",
              "    </tr>\n",
              "  </thead>\n",
              "  <tbody>\n",
              "    <tr>\n",
              "      <th>score</th>\n",
              "      <td>0.489702</td>\n",
              "      <td>0.642254</td>\n",
              "      <td>0.899014</td>\n",
              "    </tr>\n",
              "  </tbody>\n",
              "</table>\n",
              "</div>"
            ],
            "text/plain": [
              "         linear     lasso     ridge\n",
              "score  0.489702  0.642254  0.899014"
            ]
          },
          "metadata": {},
          "execution_count": 22
        }
      ],
      "metadata": {
        "colab": {
          "base_uri": "https://localhost:8080/",
          "height": 80
        },
        "id": "HOvrjFrwsRji",
        "outputId": "88d622ee-3ebd-4a14-a89c-240a4d1b2b72"
      }
    },
    {
      "cell_type": "code",
      "execution_count": 23,
      "source": [
        "#Logistic Regression\r\n",
        "from sklearn.metrics import confusion_matrix, accuracy_score, classification_report, precision_score, f1_score, roc_auc_score\r\n",
        "from sklearn.linear_model import LogisticRegression\r\n",
        "from sklearn.neighbors import KNeighborsClassifier\r\n",
        "from sklearn.tree import DecisionTreeClassifier\r\n",
        "from sklearn.ensemble import RandomForestClassifier\r\n",
        "from sklearn.metrics import precision_recall_fscore_support as score\r\n",
        "#Dataframe for metrics\r\n",
        "metrics = pd.DataFrame()\r\n",
        "\r\n",
        "# Standard logistic regression\r\n",
        "lr = LogisticRegression(solver='liblinear').fit(X_train, y_train)\r\n",
        "y_pred_lr = lr.predict(X_test)\r\n",
        "\r\n",
        "precision_lr, recall_lr = (round(float(x),2) for x in list(score(y_test,\r\n",
        "                                                                    y_pred_lr,\r\n",
        "                                                                    average='weighted'))[:-2])\r\n",
        "# writing all lr stats to metrics DataFrame\r\n",
        "lr_stats = pd.Series({'precision':precision_lr,\r\n",
        "                      'recall':recall_lr,\r\n",
        "                      'accuracy':round(accuracy_score(y_test, y_pred_lr), 2),\r\n",
        "                      'f1score':round(f1_score(y_test, y_pred_lr), 2),\r\n",
        "                      'auc': round(roc_auc_score(y_test, y_pred_lr),2)},\r\n",
        "                     name='Logistic Regression')\r\n",
        "# Report outcomes\r\n",
        "pd.DataFrame(classification_report(y_test, y_pred_lr, output_dict=True)).iloc[:3,:2]"
      ],
      "outputs": [
        {
          "output_type": "execute_result",
          "data": {
            "text/html": [
              "<div>\n",
              "<style scoped>\n",
              "    .dataframe tbody tr th:only-of-type {\n",
              "        vertical-align: middle;\n",
              "    }\n",
              "\n",
              "    .dataframe tbody tr th {\n",
              "        vertical-align: top;\n",
              "    }\n",
              "\n",
              "    .dataframe thead th {\n",
              "        text-align: right;\n",
              "    }\n",
              "</style>\n",
              "<table border=\"1\" class=\"dataframe\">\n",
              "  <thead>\n",
              "    <tr style=\"text-align: right;\">\n",
              "      <th></th>\n",
              "      <th>0</th>\n",
              "      <th>1</th>\n",
              "    </tr>\n",
              "  </thead>\n",
              "  <tbody>\n",
              "    <tr>\n",
              "      <th>precision</th>\n",
              "      <td>0.808511</td>\n",
              "      <td>0.796296</td>\n",
              "    </tr>\n",
              "    <tr>\n",
              "      <th>recall</th>\n",
              "      <td>0.775510</td>\n",
              "      <td>0.826923</td>\n",
              "    </tr>\n",
              "    <tr>\n",
              "      <th>f1-score</th>\n",
              "      <td>0.791667</td>\n",
              "      <td>0.811321</td>\n",
              "    </tr>\n",
              "  </tbody>\n",
              "</table>\n",
              "</div>"
            ],
            "text/plain": [
              "                  0         1\n",
              "precision  0.808511  0.796296\n",
              "recall     0.775510  0.826923\n",
              "f1-score   0.791667  0.811321"
            ]
          },
          "metadata": {},
          "execution_count": 23
        }
      ],
      "metadata": {
        "id": "NilfejgFzWFk"
      }
    },
    {
      "cell_type": "markdown",
      "source": [
        "\r\n",
        "## Final Thoughts\r\n",
        "Due to the high number of parameters the ridge regression performs better in\r\n",
        "estimate . Probably this is more a classification problem so another algorithm can get\r\n",
        "more precise and significative resultis"
      ],
      "metadata": {}
    },
    {
      "cell_type": "code",
      "execution_count": 24,
      "source": [
        "#K Nearest Neighbors model\r\n",
        "\r\n",
        "knn=KNeighborsClassifier(n_neighbors=3 , weights='distance')\r\n",
        "knn = knn.fit(X_train,y_train)\r\n",
        "y_pred_knn=knn.predict(X_test)\r\n",
        "precision_knn, recall_knn = (round(float(x),2) for x in list(score(y_test,y_pred_knn,average='weighted'))[:-2])\r\n",
        "# adding KNN stats to metrics DataFrame\r\n",
        "knn_stats = pd.Series({'precision':precision_knn,\r\n",
        "                      'recall':recall_knn,\r\n",
        "                      'accuracy':round(accuracy_score(y_test, y_pred_knn), 2),\r\n",
        "                      'f1score':round(f1_score(y_test, y_pred_knn), 2),\r\n",
        "                      'auc': round(roc_auc_score(y_test, y_pred_knn),2)}, name='KNN')\r\n",
        "# Report outcomes\r\n",
        "pd.DataFrame(classification_report(y_test, y_pred_knn, output_dict=True)).iloc[:3,:2]"
      ],
      "outputs": [
        {
          "output_type": "execute_result",
          "data": {
            "text/html": [
              "<div>\n",
              "<style scoped>\n",
              "    .dataframe tbody tr th:only-of-type {\n",
              "        vertical-align: middle;\n",
              "    }\n",
              "\n",
              "    .dataframe tbody tr th {\n",
              "        vertical-align: top;\n",
              "    }\n",
              "\n",
              "    .dataframe thead th {\n",
              "        text-align: right;\n",
              "    }\n",
              "</style>\n",
              "<table border=\"1\" class=\"dataframe\">\n",
              "  <thead>\n",
              "    <tr style=\"text-align: right;\">\n",
              "      <th></th>\n",
              "      <th>0</th>\n",
              "      <th>1</th>\n",
              "    </tr>\n",
              "  </thead>\n",
              "  <tbody>\n",
              "    <tr>\n",
              "      <th>precision</th>\n",
              "      <td>0.780000</td>\n",
              "      <td>0.803922</td>\n",
              "    </tr>\n",
              "    <tr>\n",
              "      <th>recall</th>\n",
              "      <td>0.795918</td>\n",
              "      <td>0.788462</td>\n",
              "    </tr>\n",
              "    <tr>\n",
              "      <th>f1-score</th>\n",
              "      <td>0.787879</td>\n",
              "      <td>0.796117</td>\n",
              "    </tr>\n",
              "  </tbody>\n",
              "</table>\n",
              "</div>"
            ],
            "text/plain": [
              "                  0         1\n",
              "precision  0.780000  0.803922\n",
              "recall     0.795918  0.788462\n",
              "f1-score   0.787879  0.796117"
            ]
          },
          "metadata": {},
          "execution_count": 24
        }
      ],
      "metadata": {}
    },
    {
      "cell_type": "markdown",
      "source": [
        "# Classification Models\r\n",
        "In the previous step we suppose that this is more a classification problem so in this section we try to find the best model to classificate if a patient has an heart attack\r\n",
        "## Finding the best model \r\n",
        "For this analysis we need to compare scores between some classfication models,\r\n",
        "those models are : Logistic Regression , KNN , Decision Tree and Random Forest.\r\n",
        "To compare this models we are going to plot their confusion matrix and compare their\r\n",
        "scores.\r\n",
        "\r\n"
      ],
      "metadata": {}
    },
    {
      "cell_type": "markdown",
      "source": [
        "## Decision Tree Classifier\r\n",
        "For this model , first we have to find the best number of trees that minimize the OOB (out of\r\n",
        "the bag error) in this model is around 800 trees , but i choose to use 200 trees because of\r\n",
        "the computational work ."
      ],
      "metadata": {}
    },
    {
      "cell_type": "code",
      "execution_count": 25,
      "source": [
        "\r\n",
        "# Initialize the random forest estimator\r\n",
        "RF = RandomForestClassifier(oob_score=True, \r\n",
        "                            random_state=42, \r\n",
        "                            warm_start=True,\r\n",
        "                            n_jobs=-1)\r\n",
        "\r\n",
        "# initialise list for out of bag error\r\n",
        "oob_list = list()\r\n",
        "\r\n",
        "# Iterate through all of the possibilities for number of trees\r\n",
        "for n_trees in [15, 20, 30, 40, 50, 100, 150, 200, 300, 400, 500 ,600 , 700, 800 , 900,1000,1200,1900]:\r\n",
        "    \r\n",
        "    # Use this to set the number of trees\r\n",
        "    RF.set_params(n_estimators=n_trees)\r\n",
        "    \r\n",
        "    # Fit the model\r\n",
        "    RF.fit(X_train, y_train)\r\n",
        "    \r\n",
        "    # Get the out of bag error and store it\r\n",
        "    oob_error = 1 - RF.oob_score_\r\n",
        "    oob_list.append(pd.Series({'n_trees': n_trees, 'oob': oob_error}))\r\n",
        "\r\n",
        "rf_oob_df = pd.concat(oob_list, axis=1).T.set_index('n_trees')"
      ],
      "outputs": [],
      "metadata": {}
    },
    {
      "cell_type": "code",
      "execution_count": 26,
      "source": [
        "sns.set_context('talk')\r\n",
        "sns.set_style('white')\r\n",
        "\r\n",
        "ax = rf_oob_df.plot(legend=False, marker='o', color=\"green\", figsize=(14, 7), linewidth=5)\r\n",
        "ax.set(ylabel='out-of-bag error');"
      ],
      "outputs": [
        {
          "output_type": "display_data",
          "data": {
            "image/png": "[encoded data removed]",
            "text/plain": [
              "<Figure size 1008x504 with 1 Axes>"
            ]
          },
          "metadata": {}
        }
      ],
      "metadata": {}
    },
    {
      "cell_type": "markdown",
      "source": [
        "Then we use the chosen number of trees in the model"
      ],
      "metadata": {}
    },
    {
      "cell_type": "code",
      "execution_count": 27,
      "source": [
        "rf = RF.set_params(n_estimators=200)\r\n",
        "\r\n",
        "y_pred_rf = rf.predict(X_test)\r\n",
        "precision_rf, recall_rf = (round(float(x),2) for x in list(score(y_test,\r\n",
        "                                                                    y_pred_rf,\r\n",
        "                                                                    average='weighted'))[:-2])\r\n",
        "rf_stats = pd.Series({'precision':precision_rf,\r\n",
        "                      'recall':recall_rf,\r\n",
        "                      'accuracy':round(accuracy_score(y_test, y_pred_rf), 2),\r\n",
        "                      'f1score':round(f1_score(y_test, y_pred_rf), 2),\r\n",
        "                      'auc': round(roc_auc_score(y_test, y_pred_rf),2)}, name='Random Forest')\r\n",
        "# Report outcomes\r\n",
        "pd.DataFrame(classification_report(y_test, y_pred_rf, output_dict=True)).iloc[:3,:2]"
      ],
      "outputs": [
        {
          "output_type": "execute_result",
          "data": {
            "text/html": [
              "<div>\n",
              "<style scoped>\n",
              "    .dataframe tbody tr th:only-of-type {\n",
              "        vertical-align: middle;\n",
              "    }\n",
              "\n",
              "    .dataframe tbody tr th {\n",
              "        vertical-align: top;\n",
              "    }\n",
              "\n",
              "    .dataframe thead th {\n",
              "        text-align: right;\n",
              "    }\n",
              "</style>\n",
              "<table border=\"1\" class=\"dataframe\">\n",
              "  <thead>\n",
              "    <tr style=\"text-align: right;\">\n",
              "      <th></th>\n",
              "      <th>0</th>\n",
              "      <th>1</th>\n",
              "    </tr>\n",
              "  </thead>\n",
              "  <tbody>\n",
              "    <tr>\n",
              "      <th>precision</th>\n",
              "      <td>0.812500</td>\n",
              "      <td>0.811321</td>\n",
              "    </tr>\n",
              "    <tr>\n",
              "      <th>recall</th>\n",
              "      <td>0.795918</td>\n",
              "      <td>0.826923</td>\n",
              "    </tr>\n",
              "    <tr>\n",
              "      <th>f1-score</th>\n",
              "      <td>0.804124</td>\n",
              "      <td>0.819048</td>\n",
              "    </tr>\n",
              "  </tbody>\n",
              "</table>\n",
              "</div>"
            ],
            "text/plain": [
              "                  0         1\n",
              "precision  0.812500  0.811321\n",
              "recall     0.795918  0.826923\n",
              "f1-score   0.804124  0.819048"
            ]
          },
          "metadata": {},
          "execution_count": 27
        }
      ],
      "metadata": {}
    },
    {
      "cell_type": "code",
      "execution_count": 28,
      "source": [
        "#Decision Tree\r\n",
        "dt = DecisionTreeClassifier(random_state=42)\r\n",
        "dt = dt.fit(X_train, y_train)\r\n",
        "dt.tree_.node_count, dt.tree_.max_depth"
      ],
      "outputs": [
        {
          "output_type": "execute_result",
          "data": {
            "text/plain": [
              "(71, 10)"
            ]
          },
          "metadata": {},
          "execution_count": 28
        }
      ],
      "metadata": {}
    },
    {
      "cell_type": "code",
      "execution_count": 29,
      "source": [
        "\r\n",
        "y_train_pred = dt.predict(X_train)\r\n",
        "y_pred_dt = dt.predict(X_test)\r\n",
        "\r\n",
        "precision_dt, recall_dt = (round(float(x),2) for x in list(score(y_test,\r\n",
        "                                                                y_pred_dt,\r\n",
        "                                                                average='weighted'))[:-2])\r\n",
        "# adding dt stats to metrics DataFrame\r\n",
        "dt_stats = pd.Series({'precision':precision_dt,\r\n",
        "                      'recall':recall_dt,\r\n",
        "                      'accuracy':round(accuracy_score(y_test, y_pred_dt), 2),\r\n",
        "                      'f1score':round(f1_score(y_test, y_pred_dt), 2),\r\n",
        "                      'auc': round(roc_auc_score(y_test, y_pred_dt),2)}, name='Decision Tree')\r\n",
        "# Report outcomes\r\n",
        "pd.DataFrame(classification_report(y_test, y_pred_dt, output_dict=True)).iloc[:3,:2]"
      ],
      "outputs": [
        {
          "output_type": "execute_result",
          "data": {
            "text/html": [
              "<div>\n",
              "<style scoped>\n",
              "    .dataframe tbody tr th:only-of-type {\n",
              "        vertical-align: middle;\n",
              "    }\n",
              "\n",
              "    .dataframe tbody tr th {\n",
              "        vertical-align: top;\n",
              "    }\n",
              "\n",
              "    .dataframe thead th {\n",
              "        text-align: right;\n",
              "    }\n",
              "</style>\n",
              "<table border=\"1\" class=\"dataframe\">\n",
              "  <thead>\n",
              "    <tr style=\"text-align: right;\">\n",
              "      <th></th>\n",
              "      <th>0</th>\n",
              "      <th>1</th>\n",
              "    </tr>\n",
              "  </thead>\n",
              "  <tbody>\n",
              "    <tr>\n",
              "      <th>precision</th>\n",
              "      <td>0.652174</td>\n",
              "      <td>0.654545</td>\n",
              "    </tr>\n",
              "    <tr>\n",
              "      <th>recall</th>\n",
              "      <td>0.612245</td>\n",
              "      <td>0.692308</td>\n",
              "    </tr>\n",
              "    <tr>\n",
              "      <th>f1-score</th>\n",
              "      <td>0.631579</td>\n",
              "      <td>0.672897</td>\n",
              "    </tr>\n",
              "  </tbody>\n",
              "</table>\n",
              "</div>"
            ],
            "text/plain": [
              "                  0         1\n",
              "precision  0.652174  0.654545\n",
              "recall     0.612245  0.692308\n",
              "f1-score   0.631579  0.672897"
            ]
          },
          "metadata": {},
          "execution_count": 29
        }
      ],
      "metadata": {}
    },
    {
      "cell_type": "code",
      "execution_count": 30,
      "source": [
        "fig, axList = plt.subplots(nrows=2, ncols=2)\r\n",
        "axList = axList.flatten()\r\n",
        "fig.set_size_inches(12, 10)\r\n",
        "\r\n",
        "\r\n",
        "models = coeff_labels = ['lr', 'knn', 'dt', 'rf']\r\n",
        "cm = [confusion_matrix(y_test, y_pred_lr),\r\n",
        "      confusion_matrix(y_test, y_pred_knn),\r\n",
        "      confusion_matrix(y_test, y_pred_dt),\r\n",
        "      confusion_matrix(y_test, y_pred_rf)]\r\n",
        "labels = ['False', 'True']\r\n",
        "\r\n",
        "for ax,model, idx in zip(axList, models, range(0,4)):\r\n",
        "    sns.heatmap(cm[idx], ax=ax, annot=True, fmt='d', cmap='winter');\r\n",
        "    ax.set(title=model);\r\n",
        "    ax.set_xticklabels(labels, fontsize=20);\r\n",
        "    ax.set_yticklabels(labels, fontsize=20);\r\n",
        "    ax.set_ylabel('Prediction', fontsize=25);\r\n",
        "    ax.set_xlabel('Ground Truth', fontsize=25)\r\n",
        "    \r\n",
        "plt.tight_layout()"
      ],
      "outputs": [
        {
          "output_type": "display_data",
          "data": {
            "image/png": "[encoded data removed]",
            "text/plain": [
              "<Figure size 864x720 with 8 Axes>"
            ]
          },
          "metadata": {}
        }
      ],
      "metadata": {}
    },
    {
      "cell_type": "markdown",
      "source": [
        "## Results and Findings\r\n",
        "I have decided to put all scores from each model in a dataset to better understand\r\n",
        "the differences among all models."
      ],
      "metadata": {}
    },
    {
      "cell_type": "code",
      "execution_count": 31,
      "source": [
        "metrics.append([lr_stats, knn_stats, dt_stats, rf_stats])"
      ],
      "outputs": [
        {
          "output_type": "execute_result",
          "data": {
            "text/html": [
              "<div>\n",
              "<style scoped>\n",
              "    .dataframe tbody tr th:only-of-type {\n",
              "        vertical-align: middle;\n",
              "    }\n",
              "\n",
              "    .dataframe tbody tr th {\n",
              "        vertical-align: top;\n",
              "    }\n",
              "\n",
              "    .dataframe thead th {\n",
              "        text-align: right;\n",
              "    }\n",
              "</style>\n",
              "<table border=\"1\" class=\"dataframe\">\n",
              "  <thead>\n",
              "    <tr style=\"text-align: right;\">\n",
              "      <th></th>\n",
              "      <th>precision</th>\n",
              "      <th>recall</th>\n",
              "      <th>accuracy</th>\n",
              "      <th>f1score</th>\n",
              "      <th>auc</th>\n",
              "    </tr>\n",
              "  </thead>\n",
              "  <tbody>\n",
              "    <tr>\n",
              "      <th>Logistic Regression</th>\n",
              "      <td>0.80</td>\n",
              "      <td>0.80</td>\n",
              "      <td>0.80</td>\n",
              "      <td>0.81</td>\n",
              "      <td>0.80</td>\n",
              "    </tr>\n",
              "    <tr>\n",
              "      <th>KNN</th>\n",
              "      <td>0.79</td>\n",
              "      <td>0.79</td>\n",
              "      <td>0.79</td>\n",
              "      <td>0.80</td>\n",
              "      <td>0.79</td>\n",
              "    </tr>\n",
              "    <tr>\n",
              "      <th>Decision Tree</th>\n",
              "      <td>0.65</td>\n",
              "      <td>0.65</td>\n",
              "      <td>0.65</td>\n",
              "      <td>0.67</td>\n",
              "      <td>0.65</td>\n",
              "    </tr>\n",
              "    <tr>\n",
              "      <th>Random Forest</th>\n",
              "      <td>0.81</td>\n",
              "      <td>0.81</td>\n",
              "      <td>0.81</td>\n",
              "      <td>0.82</td>\n",
              "      <td>0.81</td>\n",
              "    </tr>\n",
              "  </tbody>\n",
              "</table>\n",
              "</div>"
            ],
            "text/plain": [
              "                     precision  recall  accuracy  f1score   auc\n",
              "Logistic Regression       0.80    0.80      0.80     0.81  0.80\n",
              "KNN                       0.79    0.79      0.79     0.80  0.79\n",
              "Decision Tree             0.65    0.65      0.65     0.67  0.65\n",
              "Random Forest             0.81    0.81      0.81     0.82  0.81"
            ]
          },
          "metadata": {},
          "execution_count": 31
        }
      ],
      "metadata": {}
    },
    {
      "cell_type": "markdown",
      "source": [
        "The best models seems to be the random forest and the logistic regression and KNN\r\n",
        "the only one with significantly low scores is the decsion tree classifier caused by a\r\n",
        "large numver of features.Maybe with some boosting algorithms  or more data we could have even\r\n",
        "more accurate models ."
      ],
      "metadata": {}
    }
  ]
}